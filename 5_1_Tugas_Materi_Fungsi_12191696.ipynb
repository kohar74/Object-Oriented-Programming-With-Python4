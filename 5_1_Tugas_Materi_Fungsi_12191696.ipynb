{
 "cells": [
  {
   "cell_type": "markdown",
   "metadata": {
    "id": "fPMZcyuxvINI"
   },
   "source": [
    "**Soal 5.1.1**\n",
    "\n",
    "Berikut ini adalah potongan kode implementasi fungsi *luas_limas_segi_empat()*\n",
    "``` javascript\n",
    "print(\"Luas : %d\" % luas_limas_segi_empat(Alas_limas, Tinggi_limas))​\n",
    "```\n",
    "Lengkapilah kode tersebut dengan merancang sebuah fungsi agar bisa diimplementasikan sesuai dengan statment potongan kode diatas.\n",
    "dengan mengetikan pada code cell di bawah ini pada editor."
   ]
  },
  {
   "cell_type": "code",
   "execution_count": 18,
   "metadata": {
    "id": "WMeeaGjuxQfL"
   },
   "outputs": [
    {
     "name": "stdout",
     "output_type": "stream",
     "text": [
      "Luas : 125\n"
     ]
    }
   ],
   "source": [
    "# Soal 4.1.1\n",
    "def luas_limas_segi_empat(Alas_limas,Tinggi_limas):\n",
    "    luas_limas_segi_empat=Alas_limas*Alas_limas+4*((Alas_limas*Tinggi_limas)/2)\n",
    "    print(\"Luas : %d\" % luas_limas_segi_empat)   \n",
    "luas_limas_segi_empat(5,10)"
   ]
  },
  {
   "cell_type": "code",
   "execution_count": 14,
   "metadata": {},
   "outputs": [
    {
     "name": "stdout",
     "output_type": "stream",
     "text": [
      "Luas : 125 5 10\n"
     ]
    }
   ],
   "source": [
    "def luas_limas_segi_empat(Alas_limas,Tinggi_limas):\n",
    "    luas_limas_segi_empat=Alas_limas*Alas_limas+4*((Alas_limas*Tinggi_limas)/2)\n",
    "    print(\"Luas : %d\" % luas_limas_segi_empat,Alas_limas, Tinggi_limas)   \n",
    "luas_limas_segi_empat(5,10)"
   ]
  },
  {
   "cell_type": "code",
   "execution_count": null,
   "metadata": {},
   "outputs": [],
   "source": []
  }
 ],
 "metadata": {
  "colab": {
   "collapsed_sections": [],
   "name": "5.1_Tugas_Materi_Fungsi.ipynb",
   "provenance": []
  },
  "kernelspec": {
   "display_name": "Python 3",
   "language": "python",
   "name": "python3"
  },
  "language_info": {
   "codemirror_mode": {
    "name": "ipython",
    "version": 3
   },
   "file_extension": ".py",
   "mimetype": "text/x-python",
   "name": "python",
   "nbconvert_exporter": "python",
   "pygments_lexer": "ipython3",
   "version": "3.8.3"
  }
 },
 "nbformat": 4,
 "nbformat_minor": 4
}
